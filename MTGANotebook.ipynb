{
 "cells": [
  {
   "cell_type": "code",
   "execution_count": 1,
   "id": "99999ce3-ec74-4275-a9cf-6a54c2feecdc",
   "metadata": {},
   "outputs": [],
   "source": [
    "%load_ext autoreload\n",
    "%autoreload 2"
   ]
  },
  {
   "cell_type": "code",
   "execution_count": 25,
   "id": "71814edb-b55c-436a-bc9f-0dbbfa067f4e",
   "metadata": {},
   "outputs": [],
   "source": [
    "from MTGA.MTGA import *\n",
    "\n",
    "from MTGA.MTGAInstance import Instance\n",
    "import MTGA.Generators as Generators\n",
    "import MTGA.Mutators as Mutators\n",
    "import MTGA.WeightGenerators as WeightGenerators\n",
    "import Fixers as Fixers\n",
    "import Evaluators as Evaluators\n",
    "\n",
    "\n",
    "from ProblemDef import FirefighterProblem\n",
    "from Utils import *"
   ]
  },
  {
   "cell_type": "markdown",
   "id": "4fbe9f21-692d-4507-bad1-7bd49a32e5ff",
   "metadata": {},
   "source": [
    "## Main Instance"
   ]
  },
  {
   "cell_type": "code",
   "execution_count": 26,
   "id": "3a22479b-118c-487a-ac74-8749da307f96",
   "metadata": {},
   "outputs": [
    {
     "ename": "ValueError",
     "evalue": "probabilities do not sum to 1",
     "output_type": "error",
     "traceback": [
      "\u001b[0;31m---------------------------------------------------------------------------\u001b[0m",
      "\u001b[0;31mValueError\u001b[0m                                Traceback (most recent call last)",
      "Cell \u001b[0;32mIn[26], line 8\u001b[0m\n\u001b[1;32m      1\u001b[0m instance \u001b[38;5;241m=\u001b[39m Instance(\u001b[38;5;124m\"\u001b[39m\u001b[38;5;124mproblems/p1.json\u001b[39m\u001b[38;5;124m\"\u001b[39m,\n\u001b[1;32m      2\u001b[0m     evaluator\u001b[38;5;241m=\u001b[39mEvaluators\u001b[38;5;241m.\u001b[39mCummulativeEvaluator(),\n\u001b[1;32m      3\u001b[0m     mutator\u001b[38;5;241m=\u001b[39mMutators\u001b[38;5;241m.\u001b[39mWalkMutator(),\n\u001b[1;32m      4\u001b[0m     generator\u001b[38;5;241m=\u001b[39mGenerators\u001b[38;5;241m.\u001b[39mGenerator(),\n\u001b[1;32m      5\u001b[0m     fixer\u001b[38;5;241m=\u001b[39mFixers\u001b[38;5;241m.\u001b[39mChoiceFixer(),\n\u001b[1;32m      6\u001b[0m     weight_generator\u001b[38;5;241m=\u001b[39mWeightGenerators\u001b[38;5;241m.\u001b[39mSoftmaxWeights())\n\u001b[0;32m----> 8\u001b[0m optimize_and_record(instance)\n",
      "File \u001b[0;32m/media/foxinio/work/foxinio-work/Evo/project/FiremanProblemEAProject/MTGA/MTGA.py:102\u001b[0m, in \u001b[0;36moptimize_and_record\u001b[0;34m(instance, **kwargs)\u001b[0m\n\u001b[1;32m    100\u001b[0m \u001b[38;5;28;01mfor\u001b[39;00m it \u001b[38;5;129;01min\u001b[39;00m \u001b[38;5;28mrange\u001b[39m(number_of_iterations):\n\u001b[1;32m    101\u001b[0m     iter_time0 \u001b[38;5;241m=\u001b[39m time()\n\u001b[0;32m--> 102\u001b[0m     population \u001b[38;5;241m=\u001b[39m mtga\u001b[38;5;241m.\u001b[39mgenerate_mutated_population(current_genes)\n\u001b[1;32m    103\u001b[0m     objective_value \u001b[38;5;241m=\u001b[39m mtga\u001b[38;5;241m.\u001b[39meval_population(population)\n\u001b[1;32m    104\u001b[0m     current_genes \u001b[38;5;241m=\u001b[39m mtga\u001b[38;5;241m.\u001b[39mjudge_population(current_genes, population, objective_value)\n",
      "File \u001b[0;32m/media/foxinio/work/foxinio-work/Evo/project/FiremanProblemEAProject/MTGA/MTGA.py:49\u001b[0m, in \u001b[0;36mMTGA.generate_mutated_population\u001b[0;34m(self, genes)\u001b[0m\n\u001b[1;32m     47\u001b[0m     \u001b[38;5;28;01mfor\u001b[39;00m j \u001b[38;5;129;01min\u001b[39;00m \u001b[38;5;28mrange\u001b[39m(\u001b[38;5;28mself\u001b[39m\u001b[38;5;241m.\u001b[39mtribe_pop):\n\u001b[1;32m     48\u001b[0m         \u001b[38;5;28;01mif\u001b[39;00m random() \u001b[38;5;241m<\u001b[39m \u001b[38;5;28mself\u001b[39m\u001b[38;5;241m.\u001b[39mmut_prob:\n\u001b[0;32m---> 49\u001b[0m             population[i,j,:] \u001b[38;5;241m=\u001b[39m \u001b[38;5;28mself\u001b[39m\u001b[38;5;241m.\u001b[39minstance\u001b[38;5;241m.\u001b[39mmut(gene, population[i,j,:])\n\u001b[1;32m     50\u001b[0m \u001b[38;5;28;01mreturn\u001b[39;00m population\n",
      "File \u001b[0;32m/media/foxinio/work/foxinio-work/Evo/project/FiremanProblemEAProject/MTGA/MTGAInstance.py:24\u001b[0m, in \u001b[0;36mmut\u001b[0;34m(self, gene, o)\u001b[0m\n\u001b[1;32m     22\u001b[0m \u001b[38;5;28;01mdef\u001b[39;00m \u001b[38;5;21mmut\u001b[39m(\u001b[38;5;28mself\u001b[39m, gene, o):\n\u001b[1;32m     23\u001b[0m     o1 \u001b[38;5;241m=\u001b[39m \u001b[38;5;28mself\u001b[39m\u001b[38;5;241m.\u001b[39m_mutator(\u001b[38;5;28mself\u001b[39m\u001b[38;5;241m.\u001b[39mproblem, gene, o)\n\u001b[0;32m---> 24\u001b[0m     \u001b[38;5;28;01mreturn\u001b[39;00m \u001b[38;5;28mself\u001b[39m\u001b[38;5;241m.\u001b[39mfix(o1, distribution\u001b[38;5;241m=\u001b[39m(\u001b[38;5;241m1\u001b[39m\u001b[38;5;241m-\u001b[39mgene))\n",
      "File \u001b[0;32m/media/foxinio/work/foxinio-work/Evo/project/FiremanProblemEAProject/MTGA/Mutators.py:24\u001b[0m, in \u001b[0;36mWalkMutator.__call__\u001b[0;34m(self, problem, gene, o)\u001b[0m\n\u001b[1;32m     23\u001b[0m \u001b[38;5;28;01mdef\u001b[39;00m \u001b[38;5;21m__call__\u001b[39m(\u001b[38;5;28mself\u001b[39m, problem: FirefighterProblem, gene, o):\n\u001b[0;32m---> 24\u001b[0m     selected_inds \u001b[38;5;241m=\u001b[39m \u001b[38;5;28mself\u001b[39m\u001b[38;5;241m.\u001b[39mselect_indices(gene, o)\n\u001b[1;32m     25\u001b[0m     new_o \u001b[38;5;241m=\u001b[39m o\u001b[38;5;241m.\u001b[39mcopy()\n\u001b[1;32m     26\u001b[0m     new_o[selected_inds] \u001b[38;5;241m=\u001b[39m \u001b[38;5;28;01mFalse\u001b[39;00m\n",
      "File \u001b[0;32m/media/foxinio/work/foxinio-work/Evo/project/FiremanProblemEAProject/MTGA/Mutators.py:15\u001b[0m, in \u001b[0;36mWalkMutator.select_indices\u001b[0;34m(self, gene, o)\u001b[0m\n\u001b[1;32m     13\u001b[0m normalized_probabilities \u001b[38;5;241m=\u001b[39m inverted_gene[valid_indices]\n\u001b[1;32m     14\u001b[0m normalized_probabilities \u001b[38;5;241m/\u001b[39m\u001b[38;5;241m=\u001b[39m normalized_probabilities\u001b[38;5;241m.\u001b[39msum()\n\u001b[0;32m---> 15\u001b[0m selected_indices \u001b[38;5;241m=\u001b[39m np\u001b[38;5;241m.\u001b[39mrandom\u001b[38;5;241m.\u001b[39mchoice(\n\u001b[1;32m     16\u001b[0m     valid_indices,\n\u001b[1;32m     17\u001b[0m     size\u001b[38;5;241m=\u001b[39m\u001b[38;5;28mmin\u001b[39m(\u001b[38;5;28mself\u001b[39m\u001b[38;5;241m.\u001b[39mnumber_of_walkers, \u001b[38;5;28mlen\u001b[39m(valid_indices)),\n\u001b[1;32m     18\u001b[0m     replace\u001b[38;5;241m=\u001b[39m\u001b[38;5;28;01mFalse\u001b[39;00m,\n\u001b[1;32m     19\u001b[0m     p\u001b[38;5;241m=\u001b[39mnormalized_probabilities\n\u001b[1;32m     20\u001b[0m )\n\u001b[1;32m     21\u001b[0m \u001b[38;5;28;01mreturn\u001b[39;00m selected_indices\n",
      "File \u001b[0;32mnumpy/random/mtrand.pyx:975\u001b[0m, in \u001b[0;36mnumpy.random.mtrand.RandomState.choice\u001b[0;34m()\u001b[0m\n",
      "\u001b[0;31mValueError\u001b[0m: probabilities do not sum to 1"
     ]
    }
   ],
   "source": [
    "instance = Instance(\"problems/p1.json\",\n",
    "    evaluator=Evaluators.CummulativeEvaluator(),\n",
    "    mutator=Mutators.WalkMutator(),\n",
    "    generator=Generators.Generator(),\n",
    "    fixer=Fixers.ChoiceFixer(),\n",
    "    weight_generator=WeightGenerators.SoftmaxWeights())\n",
    "\n",
    "optimize_and_record(instance)"
   ]
  },
  {
   "cell_type": "code",
   "execution_count": null,
   "id": "b2a8207e-1873-4b36-86b2-44710d45f1c5",
   "metadata": {},
   "outputs": [],
   "source": []
  }
 ],
 "metadata": {
  "kernelspec": {
   "display_name": "Python 3 (ipykernel)",
   "language": "python",
   "name": "python3"
  },
  "language_info": {
   "codemirror_mode": {
    "name": "ipython",
    "version": 3
   },
   "file_extension": ".py",
   "mimetype": "text/x-python",
   "name": "python",
   "nbconvert_exporter": "python",
   "pygments_lexer": "ipython3",
   "version": "3.12.7"
  }
 },
 "nbformat": 4,
 "nbformat_minor": 5
}
