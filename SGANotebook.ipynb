{
 "cells": [
  {
   "cell_type": "code",
   "execution_count": null,
   "metadata": {
    "vscode": {
     "languageId": "plaintext"
    }
   },
   "outputs": [],
   "source": [
    "%load_ext autoreload\n",
    "%autoreload 2"
   ]
  },
  {
   "cell_type": "code",
   "execution_count": null,
   "metadata": {
    "vscode": {
     "languageId": "plaintext"
    }
   },
   "outputs": [],
   "source": [
    "from SGA.SGA import *\n",
    "from SGA.SGAParts import *\n",
    "from SGA.SGAInstance import *\n",
    "\n",
    "from ProblemDef import FirefighterProblem"
   ]
  },
  {
   "cell_type": "code",
   "execution_count": null,
   "metadata": {
    "vscode": {
     "languageId": "plaintext"
    }
   },
   "outputs": [],
   "source": [
    "instance = SGAInstance(\"problems/p1.json\",\n",
    "    populationInitializer= basicPI,\n",
    "    populationSize = 100,\n",
    "    generationsNumber = 20,\n",
    "    parentsSelector = basicParentsSelector,\n",
    "    crossover = basicCrossover,\n",
    "    mutationProb = 0.3,\n",
    "    mutator = noMutator,\n",
    "    fixer = basicFixer,\n",
    "    evaluator = basicEvaluator)\n",
    "\n",
    "SGA(instance)"
   ]
  }
 ],
 "metadata": {
  "language_info": {
   "name": "python"
  }
 },
 "nbformat": 4,
 "nbformat_minor": 2
}
