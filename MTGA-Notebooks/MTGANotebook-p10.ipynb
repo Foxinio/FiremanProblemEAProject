{
  "cells": [
    {
      "cell_type": "code",
      "execution_count": null,
      "id": "755bafaa",
      "metadata": {},
      "outputs": [],
      "source": [
        "%load_ext autoreload\n",
        "%autoreload 2\n",
        "import sys\n",
        "import os\n",
        "\n",
        "if not getattr(sys, \"_src_path_added\", False):\n",
        "    src_path = os.path.abspath(os.path.join(os.getcwd(), \"..\"))\n",
        "    if src_path not in sys.path:\n",
        "        sys.path.insert(0, src_path)\n",
        "    sys._src_path_added = True "
      ]
    },
    {
      "cell_type": "code",
      "execution_count": null,
      "id": "2b2368f9",
      "metadata": {},
      "outputs": [],
      "source": [
        "from MTGA.MTGA import *\n",
        "\n",
        "from MTGA.MTGAInstance import Instance\n",
        "import MTGA.Generators as Generators\n",
        "import MTGA.Mutators as Mutators\n",
        "import MTGA.WeightGenerators as WeightGenerators\n",
        "import MTGA.GeneMutators as GeneMutators\n",
        "import Fixers as Fixers\n",
        "import Evaluators as Evaluators\n",
        "\n",
        "from MTGA.GeneVisualizer import GeneEvolutionRenderer\n",
        "from Displayer import Displayer\n",
        "\n",
        "from Utils import *\n",
        "from MTGA.MTGAUtils import *"
      ]
    },
    {
      "cell_type": "markdown",
      "id": "96962482",
      "metadata": {},
      "source": [
        "## Main Instance"
      ]
    },
    {
      "cell_type": "code",
      "execution_count": null,
      "id": "183fa6c8",
      "metadata": {},
      "outputs": [],
      "source": [
        "instance = Instance(\"../problems/p10.json\",\n",
        "    evaluator=Evaluators.CummulativeEvaluator(),\n",
        "    mutator=Mutators.WalkMutator(),\n",
        "    generator=Generators.TruncatedNormal(),\n",
        "    fixer=Fixers.ChoiceFixer(),\n",
        "    weight_generator=WeightGenerators.SoftmaxWeights(),\n",
        "    gene_mutator=GeneMutators.Normal())"
      ]
    },
    {
      "cell_type": "code",
      "execution_count": null,
      "id": "048aca10-b532-4f40-b3c1-b796e57faaeb",
      "metadata": {},
      "outputs": [],
      "source": [
        "print(\"problem size\", instance.size)\n",
        "print(\"fire starts\", instance.problem.fire_starts)\n",
        "print(\"num teams\", instance.problem.num_teams)\n",
        "draw_graph(instance.problem)"
      ]
    },
    {
      "cell_type": "code",
      "execution_count": null,
      "id": "c9eac7f9-99b9-43f1-8a51-15829bac6952",
      "metadata": {},
      "outputs": [],
      "source": [
        "displayer = Displayer()\n",
        "gene_displayer = GeneEvolutionRenderer()"
      ]
    },
    {
      "cell_type": "markdown",
      "id": "a9c74884-bee4-4355-b8d2-68acdea84ab5",
      "metadata": {},
      "source": [
        "## The Run"
      ]
    },
    {
      "cell_type": "code",
      "execution_count": null,
      "id": "256ffb35",
      "metadata": {},
      "outputs": [],
      "source": [
        "data = optimize_and_collect(instance)"
      ]
    },
    {
      "cell_type": "code",
      "execution_count": null,
      "id": "e3c92b07-40ac-4dd6-b75d-c2266e0590d8",
      "metadata": {},
      "outputs": [],
      "source": [
        "solutions = correct_solutions(instance)"
      ]
    },
    {
      "cell_type": "markdown",
      "id": "cef66d99-d38b-4833-8ea9-69c708bf1ac6",
      "metadata": {},
      "source": [
        "## Results"
      ]
    },
    {
      "cell_type": "code",
      "execution_count": null,
      "id": "e7512b3d-be96-4ca5-8e78-76b6fc15d68b",
      "metadata": {},
      "outputs": [],
      "source": [
        "best_solution, best_solutions_value = max(solutions, key=lambda x: x[1])\n",
        "print(f\"Best solution [{best_solutions_value}]:\\n{best_solution}\")"
      ]
    },
    {
      "cell_type": "code",
      "execution_count": null,
      "id": "86e9f19a-1a6d-47d0-9f7c-3a63bbca99c0",
      "metadata": {
        "scrolled": true
      },
      "outputs": [],
      "source": [
        "instance.problem.visualize_fire_without_burned(displayer, best_solution)"
      ]
    },
    {
      "cell_type": "code",
      "execution_count": null,
      "id": "1cb131f2",
      "metadata": {},
      "outputs": [],
      "source": [
        "instance.problem.visualize_fires(displayer, solutions)"
      ]
    },
    {
      "cell_type": "code",
      "execution_count": null,
      "id": "8cd759aa",
      "metadata": {
        "scrolled": true
      },
      "outputs": [],
      "source": [
        "gene_displayer.visualize(data)"
      ]
    },
    {
      "cell_type": "markdown",
      "id": "0548bcae-864f-42f5-87f3-0f0100434cc8",
      "metadata": {},
      "source": [
        "## Instance 200"
      ]
    },
    {
      "cell_type": "code",
      "execution_count": null,
      "id": "1741768c-27c4-4cbf-b1c2-5beeb7ee1cd5",
      "metadata": {
        "scrolled": true
      },
      "outputs": [],
      "source": [
        "data200, instance200 = collect_and_visualize(\"../problems/p10.json\", local_step_size=0.03, sigma=0.04)"
      ]
    },
    {
      "cell_type": "code",
      "execution_count": null,
      "id": "bec1f136-d494-4d96-a539-e4c0b3add202",
      "metadata": {},
      "outputs": [],
      "source": [
        "gene_displayer.visualize(data200)"
      ]
    },
    {
      "cell_type": "code",
      "execution_count": null,
      "id": "39ba620c-93f0-4fec-ac15-e84dd20338dc",
      "metadata": {},
      "outputs": [],
      "source": [
        "solutions = correct_solutions(instance200)"
      ]
    },
    {
      "cell_type": "code",
      "execution_count": null,
      "id": "1522046d-b221-4c2d-846d-9495eac80b64",
      "metadata": {},
      "outputs": [],
      "source": [
        "best_solution_200, best_solutions_value_200 = max(solutions, key=lambda x: x[1])\n",
        "print(f\"Best solution [{best_solutions_value_200}]:\\n{best_solution_200}\")"
      ]
    },
    {
      "cell_type": "code",
      "execution_count": null,
      "id": "3832a41c-a256-470d-bd7f-4b6b2f36f030",
      "metadata": {},
      "outputs": [],
      "source": []
    }
  ],
  "metadata": {
    "kernelspec": {
      "display_name": "Python 3 (ipykernel)",
      "language": "python",
      "name": "python3"
    },
    "language_info": {
      "codemirror_mode": {
        "name": "ipython",
        "version": 3
      },
      "file_extension": ".py",
      "mimetype": "text/x-python",
      "name": "python",
      "nbconvert_exporter": "python",
      "pygments_lexer": "ipython3",
      "version": "3.12.2"
    }
  },
  "nbformat": 4,
  "nbformat_minor": 5
}