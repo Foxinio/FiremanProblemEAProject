{
 "cells": [
  {
   "cell_type": "code",
   "execution_count": null,
   "metadata": {
    "vscode": {
     "languageId": "plaintext"
    }
   },
   "outputs": [],
   "source": [
    "%load_ext autoreload\n",
    "%autoreload 2"
   ]
  },
  {
   "cell_type": "code",
   "execution_count": null,
   "metadata": {
    "vscode": {
     "languageId": "plaintext"
    }
   },
   "outputs": [],
   "source": [
    "from SGA.SGA import *\n",
    "from SGA.SGAParts import *\n",
    "from SGA.SGAInstance import *\n",
    "\n",
    "from ProblemDef import FirefighterProblem"
   ]
  },
  {
   "cell_type": "code",
   "execution_count": null,
   "metadata": {
    "vscode": {
     "languageId": "plaintext"
    }
   },
   "outputs": [],
   "source": [
    "instance = SGAInstance(\"problems/p1.json\",\n",
    "    populationInitializer= basicPI,\n",
    "    populationSize = 100,\n",
    "    generationsNumber = 20,\n",
    "    parentsSelector = basicParentsSelector,\n",
    "    crossover = basicxCrossover,\n",
    "    mutationProb = 0.3,\n",
    "    mutator = noMutator,\n",
    "    fixer = basicFixer,\n",
    "    evaluator = basicEvaluator)\n",
    "\n",
    "print(SGA(instance))"
   ]
  },
  {
   "cell_type": "code",
   "execution_count": null,
   "metadata": {},
   "outputs": [],
   "source": []
  }
 ],
 "metadata": {
  "kernelspec": {
   "display_name": "Python 3 (ipykernel)",
   "language": "python",
   "name": "python3"
  },
  "language_info": {
   "codemirror_mode": {
    "name": "ipython",
    "version": 3
   },
   "file_extension": ".py",
   "mimetype": "text/x-python",
   "name": "python",
   "nbconvert_exporter": "python",
   "pygments_lexer": "ipython3",
   "version": "3.10.12"
  }
 },
 "nbformat": 4,
 "nbformat_minor": 4
}
